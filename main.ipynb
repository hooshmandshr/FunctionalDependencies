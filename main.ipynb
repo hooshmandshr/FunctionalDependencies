{
 "cells": [
  {
   "cell_type": "code",
   "execution_count": 1,
   "metadata": {
    "collapsed": true
   },
   "outputs": [],
   "source": [
    "import numpy\n",
    "import copy"
   ]
  },
  {
   "cell_type": "code",
   "execution_count": 4,
   "metadata": {
    "collapsed": false
   },
   "outputs": [],
   "source": [
    "class FD:\n",
    "    nodes = [] # All the possible combination of the attributes\n",
    "    graph = {} # graph representation of FDs\n",
    "    sdf = {} # standard FDs\n",
    "    attr = None    # list of attributes in relation\n",
    "    N = 0          # Total number of attributes\n",
    "    CK = []        # candidate keys\n",
    "    def __init__(self, N):\n",
    "        self.N = N\n",
    "        # create alphabetical attribute names\n",
    "        first_char = ord('A')\n",
    "        self.attr =[chr(i) for i in xrange(first_char, first_char+N)]\n",
    "        # create all subsets of attributes\n",
    "        self.nodes = self.genNodes(copy.copy(self.attr))\n",
    "        self.nodes.remove('')\n",
    "        print self.nodes\n",
    "        # initialize the set of FD\n",
    "        self.init()\n",
    "        print self.graph\n",
    "        # find full closure of FD\n",
    "        self.fullClosure()\n",
    "        print self.graph\n",
    "        # find minimum cover of FD\n",
    "        self.minimal()\n",
    "        # find candidate keys\n",
    "        self.candidateKeys()\n",
    "        print self.CK\n",
    "    \n",
    "    # add random FD in the beginning\n",
    "    def init(self):\n",
    "        # adding trivial dependencies\n",
    "        for n in self.nodes:\n",
    "            self.graph[n] = []\n",
    "        for n in self.nodes:\n",
    "            subsets = self.genNodes(list(n))\n",
    "            subsets.remove('')\n",
    "            for s in subsets:\n",
    "                self.graph[n].append(s)\n",
    "        # TODO add random FD\n",
    "        #AB->D, BD->C, CD->A, and AD->B\n",
    "        self.graph['AB'].append('D')\n",
    "        self.graph['BD'].append('C')\n",
    "        self.graph['CD'].append('A')\n",
    "        self.graph['AD'].append('B')\n",
    "        \n",
    "        \n",
    "    # generate the all the possible left side 2^n attribute\n",
    "    def genNodes(self, attr_left):\n",
    "        if len(attr_left)==0:\n",
    "            return ['']\n",
    "        current = attr_left.pop()\n",
    "        new_res = self.genNodes(attr_left)\n",
    "        with_attr = []\n",
    "        for x in new_res:\n",
    "            addition = ''.join(sorted(list(set(list(x+current)))))\n",
    "            with_attr.append(addition)\n",
    "        return new_res+with_attr\n",
    "    \n",
    "    # dfs for finding all transitive FD\n",
    "    def dfs(self, node):\n",
    "        Open = [node]\n",
    "        Closed = []\n",
    "        while Open != []:\n",
    "            current = Open.pop()\n",
    "            for u in self.graph[current]:\n",
    "                if u==current:\n",
    "                    continue\n",
    "                if not(u in Open) and not(u in Closed):\n",
    "                    Open.append(u)\n",
    "            Closed.append(current)\n",
    "        return Closed\n",
    "    # use transitivity axiom\n",
    "    def transit(self):\n",
    "        for n in self.nodes:\n",
    "            reach = self.dfs(n)\n",
    "            for r in reach:\n",
    "                if not(r in self.graph[n]):\n",
    "                    self.graph[n].append(r)\n",
    "    # use augmentation axiom\n",
    "    def augment(self):\n",
    "        for n in self.nodes:\n",
    "            total = []\n",
    "            for a in self.graph[n]:\n",
    "                total += list(a)\n",
    "            total = list(set(total))\n",
    "            res = self.genNodes(total)\n",
    "            res.remove('')\n",
    "            self.graph[n] = res\n",
    "    # finds the set of full closures for the input FD                       \n",
    "    def fullClosure(self):\n",
    "        print 'full closure'\n",
    "        self.augment()\n",
    "        self.transit()\n",
    "        self.augment()\n",
    "    # finding all candidate keys\n",
    "    def candidateKeys(self):\n",
    "        print \"candidate keys\"\n",
    "        self.CK = []\n",
    "        for node in self.graph:\n",
    "            if ''.join(sorted(self.attr)) in self.graph[node]:\n",
    "                self.CK.append(node)\n",
    "        super_keys = []\n",
    "        for ck1 in self.CK:\n",
    "            for ck2 in self.CK:\n",
    "                if ck1 != ck2 and set(ck1).issubset(set(ck2)):\n",
    "                    super_keys.append(ck2)\n",
    "        for sk in set(super_keys):\n",
    "            self.CK.remove(sk)\n",
    "        return self.CK\n",
    "                \n",
    "    # delete redendant FD's\n",
    "    def delRedundant(self):\n",
    "        redundants = []\n",
    "        for node in self.sdf:\n",
    "            subsets = self.genNodes(list(node))\n",
    "            subsets.remove('')\n",
    "            subsets.remove(node)\n",
    "            for s in subsets:\n",
    "                if s in self.sdf:\n",
    "                    if set(self.sdf[s]) == set(self.sdf[node]):\n",
    "                        redundants.append(node)\n",
    "                        break\n",
    "        for r in redundants:\n",
    "            self.sdf.pop(r, None)\n",
    "            \n",
    "    # minimize left sides of standard FDs\n",
    "    def minimizeLeft(self):\n",
    "        redundants = []\n",
    "        for node in self.sdf:\n",
    "            for a in self.sdf[node]:\n",
    "                b = ''.join(sorted(node+a))\n",
    "                if b in self.sdf:\n",
    "                    redundants.append(b)\n",
    "        for r in redundants:\n",
    "            self.sdf.pop(r, None)    \n",
    "        self.standardize(self.sdf, full=True)\n",
    "    # create the set of standardize FDs\n",
    "    def standardize(self, inputFDDict, full=False):\n",
    "        for node in inputFDDict:\n",
    "            stan_list = []\n",
    "            for e in inputFDDict[node]:\n",
    "                non_standard = set(list(e))\n",
    "                standard = non_standard.difference(set(node))\n",
    "                standard = sorted(list(standard))\n",
    "                if not(full):\n",
    "                    standard = ''.join(standard)\n",
    "                if not(standard==''):\n",
    "                    if full:\n",
    "                        stan_list += standard\n",
    "                    else:\n",
    "                        stan_list.append(standard)\n",
    "            stan_list = list(set(stan_list))\n",
    "            if stan_list != []:\n",
    "                self.sdf[node] = stan_list\n",
    "    # find the minimal set of FD\n",
    "    def minimal(self):\n",
    "        print \"minimal cover\"\n",
    "        self.standardize(self.graph)\n",
    "        print self.sdf\n",
    "        self.minimizeLeft()\n",
    "        print self.sdf\n",
    "        self.delRedundant()\n",
    "        print self.sdf\n",
    "                "
   ]
  },
  {
   "cell_type": "code",
   "execution_count": 5,
   "metadata": {
    "collapsed": false
   },
   "outputs": [
    {
     "name": "stdout",
     "output_type": "stream",
     "text": [
      "['A', 'B', 'AB', 'C', 'AC', 'BC', 'ABC', 'D', 'AD', 'BD', 'ABD', 'CD', 'ACD', 'BCD', 'ABCD']\n",
      "{'A': ['A'], 'BD': ['B', 'D', 'BD', 'C'], 'C': ['C'], 'B': ['B'], 'ABD': ['A', 'B', 'AB', 'D', 'AD', 'BD', 'ABD'], 'D': ['D'], 'ABCD': ['A', 'B', 'AB', 'C', 'AC', 'BC', 'ABC', 'D', 'AD', 'BD', 'ABD', 'CD', 'ACD', 'BCD', 'ABCD'], 'BC': ['B', 'C', 'BC'], 'BCD': ['B', 'C', 'BC', 'D', 'BD', 'CD', 'BCD'], 'ACD': ['A', 'C', 'AC', 'D', 'AD', 'CD', 'ACD'], 'AC': ['A', 'C', 'AC'], 'ABC': ['A', 'B', 'AB', 'C', 'AC', 'BC', 'ABC'], 'CD': ['C', 'D', 'CD', 'A'], 'AB': ['A', 'B', 'AB', 'D'], 'AD': ['A', 'D', 'AD', 'B']}\n",
      "full closure\n",
      "{'A': ['A'], 'BD': ['A', 'C', 'AC', 'B', 'AB', 'BC', 'ABC', 'D', 'AD', 'CD', 'ACD', 'BD', 'ABD', 'BCD', 'ABCD'], 'C': ['C'], 'B': ['B'], 'ABD': ['A', 'C', 'AC', 'B', 'AB', 'BC', 'ABC', 'D', 'AD', 'CD', 'ACD', 'BD', 'ABD', 'BCD', 'ABCD'], 'D': ['D'], 'ABCD': ['A', 'C', 'AC', 'B', 'AB', 'BC', 'ABC', 'D', 'AD', 'CD', 'ACD', 'BD', 'ABD', 'BCD', 'ABCD'], 'BC': ['C', 'B', 'BC'], 'BCD': ['A', 'C', 'AC', 'B', 'AB', 'BC', 'ABC', 'D', 'AD', 'CD', 'ACD', 'BD', 'ABD', 'BCD', 'ABCD'], 'ACD': ['A', 'C', 'AC', 'B', 'AB', 'BC', 'ABC', 'D', 'AD', 'CD', 'ACD', 'BD', 'ABD', 'BCD', 'ABCD'], 'AC': ['A', 'C', 'AC'], 'ABC': ['A', 'C', 'AC', 'B', 'AB', 'BC', 'ABC', 'D', 'AD', 'CD', 'ACD', 'BD', 'ABD', 'BCD', 'ABCD'], 'CD': ['A', 'C', 'AC', 'B', 'AB', 'BC', 'ABC', 'D', 'AD', 'CD', 'ACD', 'BD', 'ABD', 'BCD', 'ABCD'], 'AB': ['A', 'C', 'AC', 'B', 'AB', 'BC', 'ABC', 'D', 'AD', 'CD', 'ACD', 'BD', 'ABD', 'BCD', 'ABCD'], 'AD': ['A', 'C', 'AC', 'B', 'AB', 'BC', 'ABC', 'D', 'AD', 'CD', 'ACD', 'BD', 'ABD', 'BCD', 'ABCD']}\n",
      "minimal cover\n",
      "{'BD': ['A', 'C', 'AC'], 'ABC': ['D'], 'ABD': ['C'], 'AD': ['C', 'B', 'BC'], 'ACD': ['B'], 'BCD': ['A'], 'CD': ['A', 'B', 'AB'], 'AB': ['C', 'D', 'CD']}\n",
      "{'BD': ['A', 'C'], 'AD': ['C', 'B'], 'CD': ['A', 'B'], 'AB': ['C', 'D']}\n",
      "{'BD': ['A', 'C'], 'AD': ['C', 'B'], 'CD': ['A', 'B'], 'AB': ['C', 'D']}\n",
      "candidate keys\n",
      "['BD', 'CD', 'AB', 'AD']\n"
     ]
    },
    {
     "data": {
      "text/plain": [
       "<__main__.FD instance at 0x051D97D8>"
      ]
     },
     "execution_count": 5,
     "metadata": {},
     "output_type": "execute_result"
    }
   ],
   "source": [
    "FD(4)"
   ]
  },
  {
   "cell_type": "code",
   "execution_count": 57,
   "metadata": {
    "collapsed": false
   },
   "outputs": [
    {
     "data": {
      "text/plain": [
       "False"
      ]
     },
     "execution_count": 57,
     "metadata": {},
     "output_type": "execute_result"
    }
   ],
   "source": [
    "x = [1, 2, 3]\n",
    "x == []"
   ]
  },
  {
   "cell_type": "code",
   "execution_count": null,
   "metadata": {
    "collapsed": true
   },
   "outputs": [],
   "source": []
  },
  {
   "cell_type": "code",
   "execution_count": null,
   "metadata": {
    "collapsed": true
   },
   "outputs": [],
   "source": []
  }
 ],
 "metadata": {
  "kernelspec": {
   "display_name": "Python 2",
   "language": "python",
   "name": "python2"
  },
  "language_info": {
   "codemirror_mode": {
    "name": "ipython",
    "version": 2
   },
   "file_extension": ".py",
   "mimetype": "text/x-python",
   "name": "python",
   "nbconvert_exporter": "python",
   "pygments_lexer": "ipython2",
   "version": "2.7.12"
  }
 },
 "nbformat": 4,
 "nbformat_minor": 1
}
